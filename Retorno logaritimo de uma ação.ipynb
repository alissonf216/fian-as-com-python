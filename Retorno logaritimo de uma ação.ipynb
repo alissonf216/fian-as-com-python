{
 "cells": [
  {
   "cell_type": "code",
   "execution_count": 1,
   "metadata": {},
   "outputs": [],
   "source": [
    "#vamos caregar o modulo pandas\n",
    "import pandas as pd\n",
    "#importar biblioteca do pandas datareader\n",
    "from pandas_datareader import data as pdr\n",
    "#importar a bliblioteca Numpy\n",
    "import numpy as np\n",
    "import matplotlib.pyplot as plt"
   ]
  },
  {
   "cell_type": "code",
   "execution_count": 2,
   "metadata": {},
   "outputs": [],
   "source": [
    "df_PG = pdr.DataReader('PG',data_source='yahoo',start='1995-1-1')"
   ]
  },
  {
   "cell_type": "code",
   "execution_count": 3,
   "metadata": {},
   "outputs": [
    {
     "data": {
      "text/html": [
       "<div>\n",
       "<style scoped>\n",
       "    .dataframe tbody tr th:only-of-type {\n",
       "        vertical-align: middle;\n",
       "    }\n",
       "\n",
       "    .dataframe tbody tr th {\n",
       "        vertical-align: top;\n",
       "    }\n",
       "\n",
       "    .dataframe thead th {\n",
       "        text-align: right;\n",
       "    }\n",
       "</style>\n",
       "<table border=\"1\" class=\"dataframe\">\n",
       "  <thead>\n",
       "    <tr style=\"text-align: right;\">\n",
       "      <th></th>\n",
       "      <th>High</th>\n",
       "      <th>Low</th>\n",
       "      <th>Open</th>\n",
       "      <th>Close</th>\n",
       "      <th>Volume</th>\n",
       "      <th>Adj Close</th>\n",
       "    </tr>\n",
       "    <tr>\n",
       "      <th>Date</th>\n",
       "      <th></th>\n",
       "      <th></th>\n",
       "      <th></th>\n",
       "      <th></th>\n",
       "      <th></th>\n",
       "      <th></th>\n",
       "    </tr>\n",
       "  </thead>\n",
       "  <tbody>\n",
       "    <tr>\n",
       "      <th>1995-01-03</th>\n",
       "      <td>15.62500</td>\n",
       "      <td>15.43750</td>\n",
       "      <td>15.46875</td>\n",
       "      <td>15.59375</td>\n",
       "      <td>3318400.0</td>\n",
       "      <td>6.362402</td>\n",
       "    </tr>\n",
       "    <tr>\n",
       "      <th>1995-01-04</th>\n",
       "      <td>15.65625</td>\n",
       "      <td>15.31250</td>\n",
       "      <td>15.53125</td>\n",
       "      <td>15.46875</td>\n",
       "      <td>2218800.0</td>\n",
       "      <td>6.311406</td>\n",
       "    </tr>\n",
       "    <tr>\n",
       "      <th>1995-01-05</th>\n",
       "      <td>15.43750</td>\n",
       "      <td>15.21875</td>\n",
       "      <td>15.37500</td>\n",
       "      <td>15.25000</td>\n",
       "      <td>2319600.0</td>\n",
       "      <td>6.222151</td>\n",
       "    </tr>\n",
       "    <tr>\n",
       "      <th>1995-01-06</th>\n",
       "      <td>15.40625</td>\n",
       "      <td>15.15625</td>\n",
       "      <td>15.15625</td>\n",
       "      <td>15.28125</td>\n",
       "      <td>3438000.0</td>\n",
       "      <td>6.234900</td>\n",
       "    </tr>\n",
       "    <tr>\n",
       "      <th>1995-01-09</th>\n",
       "      <td>15.40625</td>\n",
       "      <td>15.18750</td>\n",
       "      <td>15.34375</td>\n",
       "      <td>15.21875</td>\n",
       "      <td>1795200.0</td>\n",
       "      <td>6.209402</td>\n",
       "    </tr>\n",
       "  </tbody>\n",
       "</table>\n",
       "</div>"
      ],
      "text/plain": [
       "                High       Low      Open     Close     Volume  Adj Close\n",
       "Date                                                                    \n",
       "1995-01-03  15.62500  15.43750  15.46875  15.59375  3318400.0   6.362402\n",
       "1995-01-04  15.65625  15.31250  15.53125  15.46875  2218800.0   6.311406\n",
       "1995-01-05  15.43750  15.21875  15.37500  15.25000  2319600.0   6.222151\n",
       "1995-01-06  15.40625  15.15625  15.15625  15.28125  3438000.0   6.234900\n",
       "1995-01-09  15.40625  15.18750  15.34375  15.21875  1795200.0   6.209402"
      ]
     },
     "execution_count": 3,
     "metadata": {},
     "output_type": "execute_result"
    }
   ],
   "source": [
    "df_PG.head()"
   ]
  },
  {
   "cell_type": "code",
   "execution_count": 4,
   "metadata": {},
   "outputs": [
    {
     "data": {
      "text/html": [
       "<div>\n",
       "<style scoped>\n",
       "    .dataframe tbody tr th:only-of-type {\n",
       "        vertical-align: middle;\n",
       "    }\n",
       "\n",
       "    .dataframe tbody tr th {\n",
       "        vertical-align: top;\n",
       "    }\n",
       "\n",
       "    .dataframe thead th {\n",
       "        text-align: right;\n",
       "    }\n",
       "</style>\n",
       "<table border=\"1\" class=\"dataframe\">\n",
       "  <thead>\n",
       "    <tr style=\"text-align: right;\">\n",
       "      <th></th>\n",
       "      <th>High</th>\n",
       "      <th>Low</th>\n",
       "      <th>Open</th>\n",
       "      <th>Close</th>\n",
       "      <th>Volume</th>\n",
       "      <th>Adj Close</th>\n",
       "    </tr>\n",
       "    <tr>\n",
       "      <th>Date</th>\n",
       "      <th></th>\n",
       "      <th></th>\n",
       "      <th></th>\n",
       "      <th></th>\n",
       "      <th></th>\n",
       "      <th></th>\n",
       "    </tr>\n",
       "  </thead>\n",
       "  <tbody>\n",
       "    <tr>\n",
       "      <th>2020-03-12</th>\n",
       "      <td>111.580002</td>\n",
       "      <td>101.000000</td>\n",
       "      <td>103.000000</td>\n",
       "      <td>101.839996</td>\n",
       "      <td>20988000.0</td>\n",
       "      <td>101.839996</td>\n",
       "    </tr>\n",
       "    <tr>\n",
       "      <th>2020-03-13</th>\n",
       "      <td>114.629997</td>\n",
       "      <td>105.410004</td>\n",
       "      <td>106.500000</td>\n",
       "      <td>114.070000</td>\n",
       "      <td>17378700.0</td>\n",
       "      <td>114.070000</td>\n",
       "    </tr>\n",
       "    <tr>\n",
       "      <th>2020-03-16</th>\n",
       "      <td>115.949997</td>\n",
       "      <td>101.000000</td>\n",
       "      <td>101.750000</td>\n",
       "      <td>108.500000</td>\n",
       "      <td>17367400.0</td>\n",
       "      <td>108.500000</td>\n",
       "    </tr>\n",
       "    <tr>\n",
       "      <th>2020-03-17</th>\n",
       "      <td>119.699997</td>\n",
       "      <td>110.769997</td>\n",
       "      <td>111.449997</td>\n",
       "      <td>118.239998</td>\n",
       "      <td>19431100.0</td>\n",
       "      <td>118.239998</td>\n",
       "    </tr>\n",
       "    <tr>\n",
       "      <th>2020-03-18</th>\n",
       "      <td>121.480003</td>\n",
       "      <td>112.150002</td>\n",
       "      <td>113.019997</td>\n",
       "      <td>112.184998</td>\n",
       "      <td>13538597.0</td>\n",
       "      <td>112.184998</td>\n",
       "    </tr>\n",
       "  </tbody>\n",
       "</table>\n",
       "</div>"
      ],
      "text/plain": [
       "                  High         Low        Open       Close      Volume  \\\n",
       "Date                                                                     \n",
       "2020-03-12  111.580002  101.000000  103.000000  101.839996  20988000.0   \n",
       "2020-03-13  114.629997  105.410004  106.500000  114.070000  17378700.0   \n",
       "2020-03-16  115.949997  101.000000  101.750000  108.500000  17367400.0   \n",
       "2020-03-17  119.699997  110.769997  111.449997  118.239998  19431100.0   \n",
       "2020-03-18  121.480003  112.150002  113.019997  112.184998  13538597.0   \n",
       "\n",
       "             Adj Close  \n",
       "Date                    \n",
       "2020-03-12  101.839996  \n",
       "2020-03-13  114.070000  \n",
       "2020-03-16  108.500000  \n",
       "2020-03-17  118.239998  \n",
       "2020-03-18  112.184998  "
      ]
     },
     "execution_count": 4,
     "metadata": {},
     "output_type": "execute_result"
    }
   ],
   "source": [
    "df_PG.tail()"
   ]
  },
  {
   "cell_type": "markdown",
   "metadata": {},
   "source": [
    "# taxa logaritima de terono é dado por : lnPt/P t -1"
   ]
  },
  {
   "cell_type": "code",
   "execution_count": 7,
   "metadata": {},
   "outputs": [
    {
     "name": "stdout",
     "output_type": "stream",
     "text": [
      "Date\n",
      "1995-01-03         NaN\n",
      "1995-01-04   -0.008047\n",
      "1995-01-05   -0.014243\n",
      "1995-01-06    0.002047\n",
      "1995-01-09   -0.004098\n",
      "1995-01-10    0.012245\n",
      "1995-01-11   -0.002030\n",
      "1995-01-12    0.010111\n",
      "1995-01-13    0.028811\n",
      "1995-01-16    0.007969\n",
      "1995-01-17    0.003960\n",
      "1995-01-18   -0.021979\n",
      "1995-01-19   -0.004049\n",
      "1995-01-20   -0.004065\n",
      "1995-01-23    0.010132\n",
      "1995-01-24   -0.002018\n",
      "1995-01-25    0.014042\n",
      "1995-01-26    0.003976\n",
      "1995-01-27    0.027398\n",
      "1995-01-30    0.015327\n",
      "1995-01-31   -0.009551\n",
      "1995-02-01   -0.019381\n",
      "1995-02-02    0.007797\n",
      "1995-02-03    0.009662\n",
      "1995-02-06    0.022815\n",
      "1995-02-07   -0.001881\n",
      "1995-02-08   -0.011365\n",
      "1995-02-09   -0.001906\n",
      "1995-02-10   -0.001910\n",
      "1995-02-13    0.007619\n",
      "                ...   \n",
      "2020-02-05    0.009110\n",
      "2020-02-06    0.002599\n",
      "2020-02-07   -0.008372\n",
      "2020-02-10    0.000714\n",
      "2020-02-11   -0.016059\n",
      "2020-02-12   -0.005735\n",
      "2020-02-13    0.012157\n",
      "2020-02-14    0.009399\n",
      "2020-02-18   -0.010119\n",
      "2020-02-19    0.004554\n",
      "2020-02-20    0.009047\n",
      "2020-02-21    0.000948\n",
      "2020-02-24   -0.027202\n",
      "2020-02-25   -0.015282\n",
      "2020-02-26   -0.010514\n",
      "2020-02-27   -0.057021\n",
      "2020-02-28   -0.002382\n",
      "2020-03-02    0.054397\n",
      "2020-03-03   -0.011694\n",
      "2020-03-04    0.052181\n",
      "2020-03-05   -0.023322\n",
      "2020-03-06    0.000247\n",
      "2020-03-09   -0.047123\n",
      "2020-03-10    0.037957\n",
      "2020-03-11   -0.077233\n",
      "2020-03-12   -0.091428\n",
      "2020-03-13    0.113409\n",
      "2020-03-16   -0.050062\n",
      "2020-03-17    0.085966\n",
      "2020-03-18   -0.052567\n",
      "Name: Retorno Logaritimo, Length: 6347, dtype: float64\n"
     ]
    }
   ],
   "source": [
    "df_PG['Retorno Logaritimo'] =np.log(df_PG['Adj Close'] / df_PG['Adj Close'].shift(1))\n",
    "print(df_PG['Retorno Logaritimo'])"
   ]
  },
  {
   "cell_type": "code",
   "execution_count": 9,
   "metadata": {},
   "outputs": [
    {
     "data": {
      "image/png": "[encoded data removed]",
      "text/plain": [
       "<Figure size 1152x576 with 1 Axes>"
      ]
     },
     "metadata": {},
     "output_type": "display_data"
    }
   ],
   "source": [
    "df_PG['Retorno Logaritimo'].plot(figsize=(16,8))\n",
    "plt.show()"
   ]
  },
  {
   "cell_type": "code",
   "execution_count": 13,
   "metadata": {
    "scrolled": true
   },
   "outputs": [
    {
     "name": "stdout",
     "output_type": "stream",
     "text": [
      "0.00045221293719987615\n"
     ]
    }
   ],
   "source": [
    "#media no tempo toodo\n",
    "log_medio = df_PG['Retorno Logaritimo'].mean()\n",
    "print (log_medio)"
   ]
  },
  {
   "cell_type": "code",
   "execution_count": 15,
   "metadata": {},
   "outputs": [
    {
     "name": "stdout",
     "output_type": "stream",
     "text": [
      "0.11305323429996904\n"
     ]
    }
   ],
   "source": [
    "#media no tempo toodo\n",
    "log_medio = df_PG['Retorno Logaritimo'].mean()*250\n",
    "print (log_medio)"
   ]
  },
  {
   "cell_type": "code",
   "execution_count": 16,
   "metadata": {},
   "outputs": [
    {
     "name": "stdout",
     "output_type": "stream",
     "text": [
      "11.305%\n"
     ]
    }
   ],
   "source": [
    "#agora vou tranformar em porcetagem\n",
    "print (str(round(log_medio ,5)*100) + '%')"
   ]
  },
  {
   "cell_type": "code",
   "execution_count": null,
   "metadata": {},
   "outputs": [],
   "source": []
  }
 ],
 "metadata": {
  "kernelspec": {
   "display_name": "Python 3",
   "language": "python",
   "name": "python3"
  },
  "language_info": {
   "codemirror_mode": {
    "name": "ipython",
    "version": 3
   },
   "file_extension": ".py",
   "mimetype": "text/x-python",
   "name": "python",
   "nbconvert_exporter": "python",
   "pygments_lexer": "ipython3",
   "version": "3.6.5"
  }
 },
 "nbformat": 4,
 "nbformat_minor": 2
}
