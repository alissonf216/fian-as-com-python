{
 "cells": [
  {
   "cell_type": "code",
   "execution_count": 3,
   "metadata": {},
   "outputs": [],
   "source": [
    "from pdf2image import convert_from_path\n",
    "import pandas as pd\n",
    "import glob as gb\n",
    "import requests\n",
    "import json\n",
    "import os\n",
    "import time\n",
    "  \n",
    "def ocr_space_file(filename, overlay=False, api_key='8b1d9d74aa88957', language='por'):\n",
    "\n",
    "    payload = {'isOverlayRequired': overlay,\n",
    "               'apikey': api_key,\n",
    "               'language': language,\n",
    "               }\n",
    "    with open(filename, 'rb') as f:\n",
    "        r = requests.post('https://api.ocr.space/parse/image',\n",
    "                          files={filename: f},\n",
    "                          data=payload,\n",
    "                          )\n",
    "    return r.content.decode()"
   ]
  },
  {
   "cell_type": "code",
   "execution_count": 2,
   "metadata": {},
   "outputs": [
    {
     "name": "stdout",
     "output_type": "stream",
     "text": [
      "(0) - relatorio_follow.PDF --> relatorio_follow.PNG\n"
     ]
    }
   ],
   "source": [
    "count = 0\n",
    "df = pd.DataFrame(columns=['caminho'])\n",
    "\n",
    "for imFilename in gb.glob(r\"C:\\Users\\alisson.oliveira\\Documents\\pdf_converte\\*.pdf\"):\n",
    "    imFilename = imFilename\n",
    "    \n",
    "    images = convert_from_path(imFilename, dpi = 300)\n",
    "    imFilename = imFilename[:len(imFilename)-4]\n",
    "    ultimo = imFilename.split(\"\\\\\")\n",
    "    print(\"(\" + str(count) + \") - \" + ultimo[-1] + \".PDF --> \" + ultimo[-1] +\".PNG\")\n",
    "\n",
    "    \n",
    "    im = \"C:\\\\Users\\\\alisson.oliveira\\\\Documents\\\\pdf_converte\\\\convertidos\\\\\" + ultimo[-1]\n",
    "    for i, image in enumerate(images):\n",
    "        fname = im + \"_\" + \"(\" + str(i + 1) + '-' + str(len(images)) + ')' '.png'\n",
    "        image.save(fname,\"PNG\")\n",
    "        df.loc[len(df)] = fname\n",
    "        \n",
    "        \n",
    "        "
   ]
  },
  {
   "cell_type": "code",
   "execution_count": 4,
   "metadata": {},
   "outputs": [],
   "source": [
    "for fname in df['caminho']:\n",
    "    test_file = ocr_space_file(filename=fname, language='por')\n",
    "    resultado = json.loads(test_file)\n",
    "    detectar_text = resultado.get(\"ParsedResults\")[0].get(\"ParsedText\")\n",
    "    nome_area = detectar_text.splitlines()        \n",
    "    os.rename(fname, 'C:\\\\Users\\\\alisson.oliveira\\\\Documents\\\\pdf_converte\\\\convertidos\\\\'+nome_area[0]+'.png')\n",
    "    time.sleep(5)\n"
   ]
  },
  {
   "cell_type": "code",
   "execution_count": null,
   "metadata": {},
   "outputs": [],
   "source": [
    "fname"
   ]
  },
  {
   "cell_type": "code",
   "execution_count": null,
   "metadata": {},
   "outputs": [],
   "source": []
  }
 ],
 "metadata": {
  "kernelspec": {
   "display_name": "Python 3",
   "language": "python",
   "name": "python3"
  },
  "language_info": {
   "codemirror_mode": {
    "name": "ipython",
    "version": 3
   },
   "file_extension": ".py",
   "mimetype": "text/x-python",
   "name": "python",
   "nbconvert_exporter": "python",
   "pygments_lexer": "ipython3",
   "version": "3.8.3"
  }
 },
 "nbformat": 4,
 "nbformat_minor": 4
}
