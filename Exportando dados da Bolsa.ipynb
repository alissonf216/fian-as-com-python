{
 "cells": [
  {
   "cell_type": "code",
   "execution_count": 1,
   "id": "9b169460",
   "metadata": {},
   "outputs": [],
   "source": [
    "import yfinance as yf\n",
    "import pandas as pd"
   ]
  },
  {
   "cell_type": "code",
   "execution_count": 2,
   "id": "837a39ec",
   "metadata": {},
   "outputs": [
    {
     "name": "stdout",
     "output_type": "stream",
     "text": [
      "[*********************100%***********************]  1 of 1 completed\n"
     ]
    }
   ],
   "source": [
    "tick = ['mglu3.SA']\n",
    "ativo = yf.download(tickers=tick, start=\"2021-01-24\", end=\"2022-01-23\", interval= \"1d\")"
   ]
  },
  {
   "cell_type": "code",
   "execution_count": null,
   "id": "f5cb2603",
   "metadata": {},
   "outputs": [],
   "source": [
    "ativo['Adj Close'].to_excel('dados1y-Magalu.xlsx')"
   ]
  },
  {
   "cell_type": "code",
   "execution_count": null,
   "id": "5a8aef1e",
   "metadata": {},
   "outputs": [],
   "source": [
    "ativo"
   ]
  }
 ],
 "metadata": {
  "kernelspec": {
   "display_name": "Python 3 (ipykernel)",
   "language": "python",
   "name": "python3"
  },
  "language_info": {
   "codemirror_mode": {
    "name": "ipython",
    "version": 3
   },
   "file_extension": ".py",
   "mimetype": "text/x-python",
   "name": "python",
   "nbconvert_exporter": "python",
   "pygments_lexer": "ipython3",
   "version": "3.9.7"
  }
 },
 "nbformat": 4,
 "nbformat_minor": 5
}
