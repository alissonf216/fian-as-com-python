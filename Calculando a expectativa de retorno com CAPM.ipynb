{
 "cells": [
  {
   "cell_type": "code",
   "execution_count": 4,
   "metadata": {},
   "outputs": [],
   "source": [
    "#vamos caregar o modulo pandas\n",
    "import pandas as pd\n",
    "#importar biblioteca do pandas datareader\n",
    "from pandas_datareader import data as pdr\n",
    "#importar a bliblioteca Numpy\n",
    "import numpy as np\n",
    "import matplotlib.pyplot as plt\n",
    "%matplotlib inline"
   ]
  },
  {
   "cell_type": "code",
   "execution_count": 5,
   "metadata": {},
   "outputs": [
    {
     "name": "stdout",
     "output_type": "stream",
     "text": [
      "            VVAR3.SA     ^BVSP\n",
      "Date                          \n",
      "2015-01-02       NaN       NaN\n",
      "2015-01-05  0.000000 -0.020724\n",
      "2015-01-06  0.000000  0.010134\n",
      "2015-01-07  0.079137  0.030003\n",
      "2015-01-08  0.000000  0.009657\n"
     ]
    },
    {
     "data": {
      "text/plain": [
       "0.07148356738680711"
      ]
     },
     "execution_count": 5,
     "metadata": {},
     "output_type": "execute_result"
    }
   ],
   "source": [
    "# tempo ideal para calc um beta é de 5 anos por isso eu coloquei (data atual - 1) -  menos 5 anos\n",
    "carteira = ['VVAR3.SA','^BVSP']\n",
    "mdata = pd.DataFrame()\n",
    "for t in carteira:\n",
    "    mdata[t] = pdr.DataReader(t,data_source='yahoo',start='2015-1-1', end = '2020-03-19')['Adj Close']\n",
    "\n",
    "#vamos criar um data frame novo com os dados de retorno em log... sabemos que em log é o melhor jeito se for ativos individuais\n",
    "df_log= np.log(mdata / mdata.shift(1))\n",
    "print(df_log.head())\n",
    "    \n",
    "#vamos cria uma matriz de covariancai com o metodo (.cov)\n",
    "cov = df_log.cov()*250\n",
    "cov\n",
    "\n",
    "#vamos obter a covariancia com o mercador, dando o numero floot\n",
    "cov_com_mercado = cov.iloc[0,1]\n",
    "cov_com_mercado\n",
    "\n",
    "# vamos obter a variancia anualizado o nosso indice Ibov( Nossa carteria de Mercado)\n",
    "var_mercado = df_log['^BVSP'].var() * 250\n",
    "var_mercado"
   ]
  },
  {
   "cell_type": "markdown",
   "metadata": {},
   "source": [
    "# Formula:\n",
    "** Beta: **\n",
    "### $$ \n",
    "\\beta_{Ação} = \\frac{\\sigma_{Ação,m}}{\\sigma_{m}^2}\n",
    "$$"
   ]
  },
  {
   "cell_type": "code",
   "execution_count": 7,
   "metadata": {},
   "outputs": [
    {
     "data": {
      "text/plain": [
       "1.107204057750166"
      ]
     },
     "execution_count": 7,
     "metadata": {},
     "output_type": "execute_result"
    }
   ],
   "source": [
    "beta_acao = cov_com_mercado / var_mercado\n",
    "beta_acao"
   ]
  },
  {
   "cell_type": "markdown",
   "metadata": {},
   "source": [
    "**Calculando a expectativa de retorno de uma Ação (CAPM):**\n",
    "\n",
    "**No Brasil eu considero como taxa livre a Selic**\n",
    "\n",
    "**Premio de risco 2(Valor da Inflação)**\n",
    "\n",
    "### $$\n",
    "\\overline{r_{ação}} = r_f + \\beta_{ação}(\\overline{r_{m}} - r_f) \n",
    "$$"
   ]
  },
  {
   "cell_type": "code",
   "execution_count": 8,
   "metadata": {},
   "outputs": [
    {
     "name": "stdout",
     "output_type": "stream",
     "text": [
      "12.608%\n"
     ]
    }
   ],
   "source": [
    "retorno_esp_min = 0.0375 + beta_acao * 0.08\n",
    "#agora vou tranformar em porcetagem\n",
    "print (str(round(retorno_esp_min ,5)*100) + '%')"
   ]
  },
  {
   "cell_type": "code",
   "execution_count": null,
   "metadata": {},
   "outputs": [],
   "source": []
  },
  {
   "cell_type": "code",
   "execution_count": null,
   "metadata": {},
   "outputs": [],
   "source": []
  },
  {
   "cell_type": "code",
   "execution_count": null,
   "metadata": {},
   "outputs": [],
   "source": []
  },
  {
   "cell_type": "code",
   "execution_count": null,
   "metadata": {},
   "outputs": [],
   "source": []
  },
  {
   "cell_type": "code",
   "execution_count": null,
   "metadata": {},
   "outputs": [],
   "source": []
  }
 ],
 "metadata": {
  "kernelspec": {
   "display_name": "Python 3",
   "language": "python",
   "name": "python3"
  },
  "language_info": {
   "codemirror_mode": {
    "name": "ipython",
    "version": 3
   },
   "file_extension": ".py",
   "mimetype": "text/x-python",
   "name": "python",
   "nbconvert_exporter": "python",
   "pygments_lexer": "ipython3",
   "version": "3.6.5"
  }
 },
 "nbformat": 4,
 "nbformat_minor": 2
}
